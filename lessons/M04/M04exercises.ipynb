{
 "cells": [
  {
   "cell_type": "markdown",
   "metadata": {},
   "source": [
    "## M04 Exercises - Hilde Younce"
   ]
  },
  {
   "cell_type": "markdown",
   "metadata": {},
   "source": [
    "### Exercise 4.1:"
   ]
  },
  {
   "cell_type": "code",
   "execution_count": 1,
   "metadata": {},
   "outputs": [],
   "source": [
    "def check_str_len(str, num):\n",
    "    '''\n",
    "    PURPOSE: Checks if length of string is equal to integer\n",
    "\n",
    "    INPUT:  str, a string\n",
    "            num, an int\n",
    "            \n",
    "    OUTPUT: returns True or False\n",
    "    '''\n",
    "    if (len(str) == num):\n",
    "        return True\n",
    "    else:\n",
    "        return False"
   ]
  },
  {
   "cell_type": "code",
   "execution_count": 9,
   "metadata": {},
   "outputs": [
    {
     "data": {
      "text/plain": [
       "True"
      ]
     },
     "execution_count": 9,
     "metadata": {},
     "output_type": "execute_result"
    }
   ],
   "source": [
    "check_str_len(\"Hilde was here.\", 15)"
   ]
  },
  {
   "cell_type": "markdown",
   "metadata": {},
   "source": [
    "### Exercise 4.2:"
   ]
  },
  {
   "cell_type": "code",
   "execution_count": 3,
   "metadata": {},
   "outputs": [],
   "source": [
    "def square(*args):\n",
    "    for num in args:\n",
    "        print(num**2)\n",
    "    return"
   ]
  },
  {
   "cell_type": "code",
   "execution_count": 5,
   "metadata": {},
   "outputs": [
    {
     "name": "stdout",
     "output_type": "stream",
     "text": [
      "4\n",
      "16\n",
      "36\n"
     ]
    }
   ],
   "source": [
    "square(2,4,6)"
   ]
  },
  {
   "cell_type": "markdown",
   "metadata": {},
   "source": [
    "### Exercise 4.3:"
   ]
  },
  {
   "cell_type": "code",
   "execution_count": 10,
   "metadata": {},
   "outputs": [],
   "source": [
    "def word_shortener(word):\n",
    "    '''\n",
    "    PURPOSE: Shorten a long word with a string that has the same first and last letter capitalized, \n",
    "            and replaces the middle letters with the number of middle letters.\n",
    "\n",
    "    INPUT: str, String\n",
    "\n",
    "    OUTPUT: returns String\n",
    "    '''\n",
    "    if not isinstance(word, str):\n",
    "        print(word, \" is not a String.\")\n",
    "        return False\n",
    "    elif len(word) <= 2:\n",
    "        print(\"String must be more than two characters long.\")\n",
    "        return False\n",
    "    else: \n",
    "        middle = len(word) - 2\n",
    "        word = word[0].upper() + str(middle) + word[-1].upper()\n",
    "        return word"
   ]
  },
  {
   "cell_type": "code",
   "execution_count": 11,
   "metadata": {},
   "outputs": [
    {
     "data": {
      "text/plain": [
       "'L10N'"
      ]
     },
     "execution_count": 11,
     "metadata": {},
     "output_type": "execute_result"
    }
   ],
   "source": [
    "word_shortener('localization')"
   ]
  },
  {
   "cell_type": "markdown",
   "metadata": {},
   "source": [
    "### Exercise 4.4:"
   ]
  },
  {
   "cell_type": "code",
   "execution_count": 12,
   "metadata": {},
   "outputs": [],
   "source": [
    "def subtract_five(num):\n",
    "    minus_five = num - 5\n",
    "    if (minus_five >= 0):\n",
    "        return 1\n",
    "    else:\n",
    "        return 0"
   ]
  },
  {
   "cell_type": "code",
   "execution_count": 16,
   "metadata": {},
   "outputs": [
    {
     "name": "stdout",
     "output_type": "stream",
     "text": [
      "1\n",
      "1\n"
     ]
    },
    {
     "data": {
      "text/plain": [
       "0"
      ]
     },
     "execution_count": 16,
     "metadata": {},
     "output_type": "execute_result"
    }
   ],
   "source": [
    "print(subtract_five(6))\n",
    "print(subtract_five(5))\n",
    "subtract_five(4)"
   ]
  }
 ],
 "metadata": {
  "kernelspec": {
   "display_name": "hilde",
   "language": "python",
   "name": "python3"
  },
  "language_info": {
   "codemirror_mode": {
    "name": "ipython",
    "version": 3
   },
   "file_extension": ".py",
   "mimetype": "text/x-python",
   "name": "python",
   "nbconvert_exporter": "python",
   "pygments_lexer": "ipython3",
   "version": "3.12.3"
  }
 },
 "nbformat": 4,
 "nbformat_minor": 2
}
